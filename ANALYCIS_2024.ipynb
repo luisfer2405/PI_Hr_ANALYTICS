{
  "cells": [
    {
      "cell_type": "code",
      "execution_count": 4,
      "metadata": {
        "id": "SrCHK_rwRn_n"
      },
      "outputs": [],
      "source": [
        "# Import libraries\n",
        "import pandas as pd\n",
        "import numpy as np\n",
        "import yfinance as yf\n",
        "import matplotlib.pyplot as plt\n",
        "%matplotlib inline\n",
        "%config InlineBackend.figure_format='retina'\n",
        "import warnings\n",
        "warnings.filterwarnings(\"ignore\")\n"
      ]
    },
    {
      "cell_type": "code",
      "execution_count": 5,
      "metadata": {
        "colab": {
          "base_uri": "https://localhost:8080/"
        },
        "id": "2UhzowQkh9w7",
        "outputId": "90505419-dd14-4365-e3a0-c0fcdbddab10"
      },
      "outputs": [],
      "source": [
        "#obtenemos los datos con la libreria de yfinance\n",
        "sp500= yf.Ticker(\"^GSPC\").history( period = \"10y\")"
      ]
    },
    {
      "cell_type": "code",
      "execution_count": 6,
      "metadata": {
        "id": "2g4HtkvEN5up"
      },
      "outputs": [],
      "source": [
        "sp500 = sp500.drop( columns= [\"Dividends\" , 'Stock Splits'] )\n",
        "\n"
      ]
    },
    {
      "cell_type": "code",
      "execution_count": 15,
      "metadata": {},
      "outputs": [],
      "source": [
        "sp500['Date '] = sp500.index\n",
        "sp500['Date '] = pd.to_datetime(sp500['Date ']).dt.strftime('%Y-%m-%d')"
      ]
    },
    {
      "cell_type": "code",
      "execution_count": 16,
      "metadata": {},
      "outputs": [
        {
          "data": {
            "text/html": [
              "<div>\n",
              "<style scoped>\n",
              "    .dataframe tbody tr th:only-of-type {\n",
              "        vertical-align: middle;\n",
              "    }\n",
              "\n",
              "    .dataframe tbody tr th {\n",
              "        vertical-align: top;\n",
              "    }\n",
              "\n",
              "    .dataframe thead th {\n",
              "        text-align: right;\n",
              "    }\n",
              "</style>\n",
              "<table border=\"1\" class=\"dataframe\">\n",
              "  <thead>\n",
              "    <tr style=\"text-align: right;\">\n",
              "      <th></th>\n",
              "      <th>Open</th>\n",
              "      <th>High</th>\n",
              "      <th>Low</th>\n",
              "      <th>Close</th>\n",
              "      <th>Volume</th>\n",
              "      <th>Date</th>\n",
              "    </tr>\n",
              "    <tr>\n",
              "      <th>Date</th>\n",
              "      <th></th>\n",
              "      <th></th>\n",
              "      <th></th>\n",
              "      <th></th>\n",
              "      <th></th>\n",
              "      <th></th>\n",
              "    </tr>\n",
              "  </thead>\n",
              "  <tbody>\n",
              "    <tr>\n",
              "      <th>2014-08-18 00:00:00-04:00</th>\n",
              "      <td>1958.359985</td>\n",
              "      <td>1971.989990</td>\n",
              "      <td>1958.359985</td>\n",
              "      <td>1971.739990</td>\n",
              "      <td>2638160000</td>\n",
              "      <td>2014-08-18</td>\n",
              "    </tr>\n",
              "    <tr>\n",
              "      <th>2014-08-19 00:00:00-04:00</th>\n",
              "      <td>1972.729980</td>\n",
              "      <td>1982.569946</td>\n",
              "      <td>1972.729980</td>\n",
              "      <td>1981.599976</td>\n",
              "      <td>2656430000</td>\n",
              "      <td>2014-08-19</td>\n",
              "    </tr>\n",
              "    <tr>\n",
              "      <th>2014-08-20 00:00:00-04:00</th>\n",
              "      <td>1980.459961</td>\n",
              "      <td>1988.569946</td>\n",
              "      <td>1977.680054</td>\n",
              "      <td>1986.510010</td>\n",
              "      <td>2579560000</td>\n",
              "      <td>2014-08-20</td>\n",
              "    </tr>\n",
              "    <tr>\n",
              "      <th>2014-08-21 00:00:00-04:00</th>\n",
              "      <td>1986.819946</td>\n",
              "      <td>1994.760010</td>\n",
              "      <td>1986.819946</td>\n",
              "      <td>1992.369995</td>\n",
              "      <td>2638920000</td>\n",
              "      <td>2014-08-21</td>\n",
              "    </tr>\n",
              "    <tr>\n",
              "      <th>2014-08-22 00:00:00-04:00</th>\n",
              "      <td>1992.599976</td>\n",
              "      <td>1993.540039</td>\n",
              "      <td>1984.760010</td>\n",
              "      <td>1988.400024</td>\n",
              "      <td>2301860000</td>\n",
              "      <td>2014-08-22</td>\n",
              "    </tr>\n",
              "    <tr>\n",
              "      <th>...</th>\n",
              "      <td>...</td>\n",
              "      <td>...</td>\n",
              "      <td>...</td>\n",
              "      <td>...</td>\n",
              "      <td>...</td>\n",
              "      <td>...</td>\n",
              "    </tr>\n",
              "    <tr>\n",
              "      <th>2024-08-12 00:00:00-04:00</th>\n",
              "      <td>5351.879883</td>\n",
              "      <td>5371.200195</td>\n",
              "      <td>5324.370117</td>\n",
              "      <td>5344.390137</td>\n",
              "      <td>3360160000</td>\n",
              "      <td>2024-08-12</td>\n",
              "    </tr>\n",
              "    <tr>\n",
              "      <th>2024-08-13 00:00:00-04:00</th>\n",
              "      <td>5376.979980</td>\n",
              "      <td>5436.500000</td>\n",
              "      <td>5376.979980</td>\n",
              "      <td>5434.430176</td>\n",
              "      <td>3648980000</td>\n",
              "      <td>2024-08-13</td>\n",
              "    </tr>\n",
              "    <tr>\n",
              "      <th>2024-08-14 00:00:00-04:00</th>\n",
              "      <td>5442.359863</td>\n",
              "      <td>5463.220215</td>\n",
              "      <td>5415.910156</td>\n",
              "      <td>5455.209961</td>\n",
              "      <td>3380050000</td>\n",
              "      <td>2024-08-14</td>\n",
              "    </tr>\n",
              "    <tr>\n",
              "      <th>2024-08-15 00:00:00-04:00</th>\n",
              "      <td>5501.129883</td>\n",
              "      <td>5546.229980</td>\n",
              "      <td>5501.129883</td>\n",
              "      <td>5543.220215</td>\n",
              "      <td>3723310000</td>\n",
              "      <td>2024-08-15</td>\n",
              "    </tr>\n",
              "    <tr>\n",
              "      <th>2024-08-16 00:00:00-04:00</th>\n",
              "      <td>5530.500000</td>\n",
              "      <td>5561.979980</td>\n",
              "      <td>5525.169922</td>\n",
              "      <td>5554.250000</td>\n",
              "      <td>3357690000</td>\n",
              "      <td>2024-08-16</td>\n",
              "    </tr>\n",
              "  </tbody>\n",
              "</table>\n",
              "<p>2517 rows × 6 columns</p>\n",
              "</div>"
            ],
            "text/plain": [
              "                                  Open         High          Low        Close  \\\n",
              "Date                                                                            \n",
              "2014-08-18 00:00:00-04:00  1958.359985  1971.989990  1958.359985  1971.739990   \n",
              "2014-08-19 00:00:00-04:00  1972.729980  1982.569946  1972.729980  1981.599976   \n",
              "2014-08-20 00:00:00-04:00  1980.459961  1988.569946  1977.680054  1986.510010   \n",
              "2014-08-21 00:00:00-04:00  1986.819946  1994.760010  1986.819946  1992.369995   \n",
              "2014-08-22 00:00:00-04:00  1992.599976  1993.540039  1984.760010  1988.400024   \n",
              "...                                ...          ...          ...          ...   \n",
              "2024-08-12 00:00:00-04:00  5351.879883  5371.200195  5324.370117  5344.390137   \n",
              "2024-08-13 00:00:00-04:00  5376.979980  5436.500000  5376.979980  5434.430176   \n",
              "2024-08-14 00:00:00-04:00  5442.359863  5463.220215  5415.910156  5455.209961   \n",
              "2024-08-15 00:00:00-04:00  5501.129883  5546.229980  5501.129883  5543.220215   \n",
              "2024-08-16 00:00:00-04:00  5530.500000  5561.979980  5525.169922  5554.250000   \n",
              "\n",
              "                               Volume       Date   \n",
              "Date                                               \n",
              "2014-08-18 00:00:00-04:00  2638160000  2014-08-18  \n",
              "2014-08-19 00:00:00-04:00  2656430000  2014-08-19  \n",
              "2014-08-20 00:00:00-04:00  2579560000  2014-08-20  \n",
              "2014-08-21 00:00:00-04:00  2638920000  2014-08-21  \n",
              "2014-08-22 00:00:00-04:00  2301860000  2014-08-22  \n",
              "...                               ...         ...  \n",
              "2024-08-12 00:00:00-04:00  3360160000  2024-08-12  \n",
              "2024-08-13 00:00:00-04:00  3648980000  2024-08-13  \n",
              "2024-08-14 00:00:00-04:00  3380050000  2024-08-14  \n",
              "2024-08-15 00:00:00-04:00  3723310000  2024-08-15  \n",
              "2024-08-16 00:00:00-04:00  3357690000  2024-08-16  \n",
              "\n",
              "[2517 rows x 6 columns]"
            ]
          },
          "execution_count": 16,
          "metadata": {},
          "output_type": "execute_result"
        }
      ],
      "source": [
        "sp500"
      ]
    },
    {
      "cell_type": "markdown",
      "metadata": {},
      "source": [
        "# Graficos de lineas\n"
      ]
    },
    {
      "cell_type": "code",
      "execution_count": 18,
      "metadata": {},
      "outputs": [
        {
          "data": {
            "text/plain": [
              "[<matplotlib.lines.Line2D at 0x27c80870590>]"
            ]
          },
          "execution_count": 18,
          "metadata": {},
          "output_type": "execute_result"
        },
        {
          "data": {
            "image/png": "[encoded data removed]",
            "text/plain": [
              "<Figure size 640x480 with 1 Axes>"
            ]
          },
          "metadata": {
            "image/png": {
              "height": 413,
              "width": 578
            }
          },
          "output_type": "display_data"
        }
      ],
      "source": [
        "plt.plot(sp500[\"Date \"], sp500[\"Close\"])"
      ]
    },
    {
      "cell_type": "code",
      "execution_count": null,
      "metadata": {
        "colab": {
          "base_uri": "https://localhost:8080/",
          "height": 569
        },
        "id": "soMeekrABurD",
        "outputId": "b1793bd7-31ec-4885-b7bd-ced3d65c3403"
      },
      "outputs": [],
      "source": [
        "def get_candle_type(price):\n",
        "  if price[\"Close\"] > price[\"Open\"] : return \"bullish\"\n",
        "  if price[\"Close\"] < price[\"Open\"] : return \"bearish\"\n",
        "  #if price[\"Close\"] == price[\"Open\"] : return \"undefined\"\n",
        "  return \"undefined\"\n",
        "\n",
        "def set_candle_type(row):\n",
        "  type_ = row[\"Type\"]\n",
        "  if type_ is \"bullish\":\n",
        "    return row[\"Delta\"]\n",
        "  if type_ is \"bearish\":\n",
        "    return -row[\"Delta\"]\n",
        "\n",
        "  return None\n",
        "\n",
        "df_candles = pd.DataFrame()\n",
        "df_candles['Symbol'] = sp500['Symbol']\n",
        "df_candles[\"Delta\"] = sp500[\"High\"] - sp500[\"Low\"]\n",
        "df_candles[\"Type\"]  = sp500.apply(lambda row: get_candle_type(row), axis=1)\n",
        "df_candles[\"Delta\"] = df_candles.apply(lambda row: set_candle_type(row), axis=1)\n",
        "df_candles.dropna(axis=1)\n",
        "df_candles"
      ]
    },
    {
      "cell_type": "code",
      "execution_count": null,
      "metadata": {
        "colab": {
          "base_uri": "https://localhost:8080/",
          "height": 171
        },
        "id": "9qnGm4Jd8YI7",
        "outputId": "1e592423-bcec-4e8d-f7da-16ce8b51e05a"
      },
      "outputs": [],
      "source": [
        "sp500 = pd.merge(sp500,df_candles, on='Symbol')"
      ]
    },
    {
      "cell_type": "code",
      "execution_count": null,
      "metadata": {
        "colab": {
          "base_uri": "https://localhost:8080/"
        },
        "id": "k_MzM1IaiIgd",
        "outputId": "c7cbc604-1429-4161-8b95-94853755f4a4"
      },
      "outputs": [],
      "source": [
        "sp500_data.shape"
      ]
    },
    {
      "cell_type": "code",
      "execution_count": null,
      "metadata": {
        "id": "2PXwV-IUiIcS"
      },
      "outputs": [],
      "source": [
        "lista = sp500_data['Symbol'].unique().tolist()"
      ]
    },
    {
      "cell_type": "code",
      "execution_count": null,
      "metadata": {
        "colab": {
          "base_uri": "https://localhost:8080/"
        },
        "id": "PBI5Mu8MiIY5",
        "outputId": "9a1cc8c0-05b7-4d01-bc97-123b74229c58"
      },
      "outputs": [],
      "source": [
        "print(lista)"
      ]
    },
    {
      "cell_type": "code",
      "execution_count": null,
      "metadata": {
        "colab": {
          "base_uri": "https://localhost:8080/"
        },
        "id": "YH_XNG7yiIVg",
        "outputId": "a500e17a-d3fb-42b1-cd8a-249b05847ff1"
      },
      "outputs": [],
      "source": [
        "print(sp500_data.Symbol.unique)"
      ]
    },
    {
      "cell_type": "code",
      "execution_count": null,
      "metadata": {
        "id": "N_8-EiJ5iISC"
      },
      "outputs": [],
      "source": [
        "symbols = ['MMM', 'AOS', 'ABT', 'ABBV', 'ACN', 'ATVI', 'ADM', 'ADBE', 'ADP', 'AAP', 'AES', 'AFL', 'A', 'APD', 'AKAM', 'ALK', 'ALB', 'ARE', 'ALGN', 'ALLE', 'LNT', 'ALL', 'GOOGL', 'GOOG', 'MO', 'AMZN', 'AMCR', 'AMD', 'AEE', 'AAL', 'AEP', 'AXP', 'AIG', 'AMT', 'AWK', 'AMP', 'ABC', 'AME', 'AMGN', 'APH', 'ADI', 'ANSS', 'AON', 'APA', 'AAPL', 'AMAT', 'APTV', 'ACGL', 'ANET', 'AJG', 'AIZ', 'T', 'ATO', 'ADSK', 'AZO', 'AVB', 'AVY', 'BKR', 'BALL', 'BAC', 'BBWI', 'BAX', 'BDX', 'WRB', 'BBY', 'BIO', 'TECH', 'BIIB', 'BLK', 'BK', 'BA', 'BKNG', 'BWA', 'BXP', 'BSX', 'BMY', 'AVGO', 'BR', 'BRO', 'CHRW', 'CDNS', 'CZR', 'CPT', 'CPB', 'COF', 'CAH', 'KMX', 'CCL', 'CARR', 'CTLT', 'CAT', 'CBOE', 'CBRE', 'CDW', 'CE', 'CNC', 'CNP', 'CDAY', 'CF', 'CRL', 'SCHW', 'CHTR', 'CVX', 'CMG', 'CB', 'CHD', 'CI', 'CINF', 'CTAS', 'CSCO', 'C', 'CFG', 'CLX', 'CME', 'CMS', 'KO', 'CTSH', 'CL', 'CMCSA', 'CMA', 'CAG', 'COP', 'ED', 'STZ', 'CEG', 'COO', 'CPRT', 'GLW', 'CTVA', 'CSGP', 'COST', 'CTRA', 'CCI', 'CSX', 'CMI', 'CVS', 'DHI', 'DHR', 'DRI', 'DVA', 'DE', 'DAL', 'XRAY', 'DVN', 'DXCM', 'FANG', 'DLR', 'DFS', 'DISH', 'DIS', 'DG', 'DLTR', 'D', 'DPZ', 'DOV', 'DOW', 'DTE', 'DUK', 'DD', 'DXC', 'EMN', 'ETN', 'EBAY', 'ECL', 'EIX', 'EW', 'EA', 'ELV', 'LLY', 'EMR', 'ENPH', 'ETR', 'EOG', 'EPAM', 'EQT', 'EFX', 'EQIX', 'EQR', 'ESS', 'EL', 'ETSY', 'RE', 'EVRG', 'ES', 'EXC', 'EXPE', 'EXPD', 'EXR', 'XOM', 'FFIV', 'FDS', 'FAST', 'FRT', 'FDX', 'FITB', 'FRC', 'FSLR', 'FE', 'FIS', 'FISV', 'FLT', 'FMC', 'F', 'FTNT', 'FTV', 'FOXA', 'FOX', 'BEN', 'FCX', 'GRMN', 'IT', 'GEHC', 'GEN', 'GNRC', 'GD', 'GE', 'GIS', 'GM', 'GPC', 'GILD', 'GL', 'GPN', 'GS', 'HAL', 'HIG', 'HAS', 'HCA', 'PEAK', 'HSIC', 'HSY', 'HES', 'HPE', 'HLT', 'HOLX', 'HD', 'HON', 'HRL', 'HST', 'HWM', 'HPQ', 'HUM', 'HBAN', 'HII', 'IBM', 'IEX', 'IDXX', 'ITW', 'ILMN', 'INCY', 'IR', 'INTC', 'ICE', 'IFF', 'IP', 'IPG', 'INTU', 'ISRG', 'IVZ', 'INVH', 'IQV', 'IRM', 'JBHT', 'JKHY', 'J', 'JNJ', 'JCI', 'JPM', 'JNPR', 'K', 'KDP', 'KEY', 'KEYS', 'KMB', 'KIM', 'KMI', 'KLAC', 'KHC', 'KR', 'LHX', 'LH', 'LRCX', 'LW', 'LVS', 'LDOS', 'LEN', 'LNC', 'LIN', 'LYV', 'LKQ', 'LMT', 'L', 'LOW', 'LUMN', 'LYB', 'MTB', 'MRO', 'MPC', 'MKTX', 'MAR', 'MMC', 'MLM', 'MAS', 'MA', 'MTCH', 'MKC', 'MCD', 'MCK', 'MDT', 'MRK', 'META', 'MET', 'MTD', 'MGM', 'MCHP', 'MU', 'MSFT', 'MAA', 'MRNA', 'MHK', 'MOH', 'TAP', 'MDLZ', 'MPWR', 'MNST', 'MCO', 'MS', 'MOS', 'MSI', 'MSCI', 'NDAQ', 'NTAP', 'NFLX', 'NWL', 'NEM', 'NWSA', 'NWS', 'NEE', 'NKE', 'NI', 'NDSN', 'NSC', 'NTRS', 'NOC', 'NCLH', 'NRG', 'NUE', 'NVDA', 'NVR', 'NXPI', 'ORLY', 'OXY', 'ODFL', 'OMC', 'ON', 'OKE', 'ORCL', 'OGN', 'OTIS', 'PCAR', 'PKG', 'PARA', 'PH', 'PAYX', 'PAYC', 'PYPL', 'PNR', 'PEP', 'PKI', 'PFE', 'PCG', 'PM', 'PSX', 'PNW', 'PXD', 'PNC', 'POOL', 'PPG', 'PPL', 'PFG', 'PG', 'PGR', 'PLD', 'PRU', 'PEG', 'PTC', 'PSA', 'PHM', 'QRVO', 'PWR', 'QCOM', 'DGX', 'RL', 'RJF', 'RTX', 'O', 'REG', 'REGN', 'RF', 'RSG', 'RMD', 'RHI', 'ROK', 'ROL', 'ROP', 'ROST', 'RCL', 'SPGI', 'CRM', 'SBAC', 'SLB', 'STX', 'SEE', 'SRE', 'NOW', 'SHW', 'SBNY', 'SPG', 'SWKS', 'SJM', 'SNA', 'SEDG', 'SO', 'LUV', 'SWK', 'SBUX', 'STT', 'STLD', 'STE', 'SYK', 'SIVB', 'SYF', 'SNPS', 'SYY', 'TMUS', 'TROW', 'TTWO', 'TPR', 'TRGP', 'TGT', 'TEL', 'TDY', 'TFX', 'TER', 'TSLA', 'TXN', 'TXT', 'TMO', 'TJX', 'TSCO', 'TT', 'TDG', 'TRV', 'TRMB', 'TFC', 'TYL', 'TSN', 'USB', 'UDR', 'ULTA', 'UNP', 'UAL', 'UPS', 'URI', 'UNH', 'UHS', 'VLO', 'VTR', 'VRSN', 'VRSK', 'VZ', 'VRTX', 'VFC', 'VTRS', 'VICI', 'V', 'VMC', 'WAB', 'WBA', 'WMT', 'WBD', 'WM', 'WAT', 'WEC', 'WFC', 'WELL', 'WST', 'WDC', 'WRK', 'WY', 'WHR', 'WMB', 'WTW', 'GWW', 'WYNN', 'XEL', 'XYL', 'YUM', 'ZBRA', 'ZBH', 'ZION', 'ZTS']\n"
      ]
    },
    {
      "cell_type": "code",
      "execution_count": null,
      "metadata": {},
      "outputs": [],
      "source": []
    },
    {
      "cell_type": "code",
      "execution_count": null,
      "metadata": {
        "id": "xL1lAhEvitYG"
      },
      "outputs": [],
      "source": [
        "url = \"https://en.wikipedia.org/wiki/List_of_S%26P_500_companies\"\n"
      ]
    },
    {
      "cell_type": "code",
      "execution_count": null,
      "metadata": {
        "id": "kve7m-usit53"
      },
      "outputs": [],
      "source": [
        "# Usar la función read_html() para leer la tabla desde la página web\n",
        "tables = pd.read_html(url)"
      ]
    },
    {
      "cell_type": "code",
      "execution_count": null,
      "metadata": {
        "id": "4oTQtzb-iuDo"
      },
      "outputs": [],
      "source": [
        "# La tabla que nos interesa es la primera\n",
        "sp500_table = tables[0]"
      ]
    },
    {
      "cell_type": "code",
      "execution_count": null,
      "metadata": {
        "colab": {
          "base_uri": "https://localhost:8080/",
          "height": 206
        },
        "id": "T-HH9DkNi5C4",
        "outputId": "0ec9555a-eaf8-4145-f672-d3fc8c1da646"
      },
      "outputs": [],
      "source": [
        "# Imprimir los primeros cinco registros del DataFrame\n",
        "sp500_table.head()"
      ]
    },
    {
      "cell_type": "code",
      "execution_count": null,
      "metadata": {
        "id": "470-ZzpGi9Gz"
      },
      "outputs": [],
      "source": [
        "lista2 = sp500_data['Symbol'].unique().tolist()"
      ]
    },
    {
      "cell_type": "code",
      "execution_count": null,
      "metadata": {
        "colab": {
          "base_uri": "https://localhost:8080/"
        },
        "id": "-Yf1Gn_I8Vfy",
        "outputId": "53a03cda-9b15-4cf3-861f-0870e84682e9"
      },
      "outputs": [],
      "source": [
        "print(len(lista2))"
      ]
    },
    {
      "cell_type": "code",
      "execution_count": null,
      "metadata": {
        "colab": {
          "base_uri": "https://localhost:8080/",
          "height": 206
        },
        "id": "gf0O8LK78kbQ",
        "outputId": "90e43b13-44d2-495a-c36b-1c5182b692d7"
      },
      "outputs": [],
      "source": [
        "sp500_data.head()"
      ]
    },
    {
      "cell_type": "code",
      "execution_count": null,
      "metadata": {
        "id": "7K5nSqDe8142"
      },
      "outputs": [],
      "source": [
        "# Fusionar los dataframes en función de la columna CustomerID\n",
        "merged_df = pd.merge(sp500_data, sp500_table, on='Symbol')\n",
        "\n"
      ]
    },
    {
      "cell_type": "code",
      "execution_count": null,
      "metadata": {
        "colab": {
          "base_uri": "https://localhost:8080/",
          "height": 354
        },
        "id": "j_31qhf-9OYU",
        "outputId": "345d6b58-6935-432e-e83b-cb4016303dce"
      },
      "outputs": [],
      "source": [
        "merged_df.head()"
      ]
    },
    {
      "cell_type": "code",
      "execution_count": null,
      "metadata": {
        "colab": {
          "base_uri": "https://localhost:8080/"
        },
        "id": "7vkIBUzc9S2t",
        "outputId": "a90a9c6d-47d3-45cd-e764-5136dc6f9934"
      },
      "outputs": [],
      "source": [
        "merged_df.shape"
      ]
    },
    {
      "cell_type": "code",
      "execution_count": null,
      "metadata": {
        "colab": {
          "base_uri": "https://localhost:8080/"
        },
        "id": "wfVjT7YQOBM2",
        "outputId": "434d4403-0ec3-4fe5-b962-22276c0507b5"
      },
      "outputs": [],
      "source": [
        "# Establecer el rango de fechas\n",
        "start_date = '2000-01-01'\n",
        "end_date = '2023-02-22'\n",
        "\n",
        "# Obtener los datos utilizando la biblioteca yfinance\n",
        "ticker = \"^GSPC\"  # el símbolo de Yahoo Finance para el índice S&P500\n",
        "dataglobal = yf.download(ticker, start=start_date, end=end_date)\n"
      ]
    },
    {
      "cell_type": "code",
      "execution_count": null,
      "metadata": {
        "colab": {
          "base_uri": "https://localhost:8080/",
          "height": 237
        },
        "id": "rRlutgP2OEEK",
        "outputId": "5ee1106c-3cdb-4e3a-fd6f-0863a3dccb8e"
      },
      "outputs": [],
      "source": [
        "dataglobal.head()"
      ]
    },
    {
      "cell_type": "code",
      "execution_count": null,
      "metadata": {
        "colab": {
          "base_uri": "https://localhost:8080/"
        },
        "id": "0OAuKrZfREMP",
        "outputId": "b5832c81-efc6-404e-e1da-7b7cbd355652"
      },
      "outputs": [],
      "source": [
        "merged_df.info()"
      ]
    },
    {
      "cell_type": "code",
      "execution_count": null,
      "metadata": {
        "id": "uq6EE1qZR6aH"
      },
      "outputs": [],
      "source": [
        "# Agregar una columna con el día de la semana correspondiente\n",
        "dias_de_la_semana = {\n",
        "    0: 'Lunes',\n",
        "    1: 'Martes',\n",
        "    2: 'Miércoles',\n",
        "    3: 'Jueves',\n",
        "    4: 'Viernes',\n",
        "    5: 'Sábado',\n",
        "    6: 'Domingo'\n",
        "}\n",
        "merged_df['Dia'] = merged_df['Date'].dt.dayofweek.map(dias_de_la_semana)"
      ]
    },
    {
      "cell_type": "code",
      "execution_count": null,
      "metadata": {
        "colab": {
          "base_uri": "https://localhost:8080/",
          "height": 354
        },
        "id": "DR6GJ6XsSHiQ",
        "outputId": "c13d587f-8808-487d-c954-619728ae66fc"
      },
      "outputs": [],
      "source": [
        "merged_df.tail()"
      ]
    },
    {
      "cell_type": "code",
      "execution_count": null,
      "metadata": {
        "id": "KOfz5I-08e3c"
      },
      "outputs": [],
      "source": [
        "merged_df.to_parquet('sp500.parquet')"
      ]
    },
    {
      "cell_type": "code",
      "execution_count": null,
      "metadata": {
        "id": "0PCEFWtX9Cs1"
      },
      "outputs": [],
      "source": [
        "df= pd.read_parquet('sp500.parquet')"
      ]
    },
    {
      "cell_type": "code",
      "execution_count": null,
      "metadata": {
        "id": "XoXiYJmGJRIZ"
      },
      "outputs": [],
      "source": [
        "grupos = df.groupby('GICS Sector')\n",
        "\n",
        "# iterar sobre los grupos y guardar cada uno en un archivo CSV separado\n",
        "for nombre, grupo in grupos:\n",
        "    archivo_salida = nombre + '.csv'\n",
        "    grupo.to_csv(archivo_salida, index=False)"
      ]
    },
    {
      "cell_type": "code",
      "execution_count": null,
      "metadata": {
        "id": "7ESEj4nEPqjC"
      },
      "outputs": [],
      "source": [
        "df_tech = df.loc[df['GICS Sector'] == 'Information Technology']\n"
      ]
    },
    {
      "cell_type": "code",
      "execution_count": null,
      "metadata": {
        "colab": {
          "base_uri": "https://localhost:8080/",
          "height": 354
        },
        "id": "A2EoPHUITQwT",
        "outputId": "90dc68bd-979f-4f1d-ff35-c76099374990"
      },
      "outputs": [],
      "source": [
        "df_tech.head()"
      ]
    },
    {
      "cell_type": "code",
      "execution_count": null,
      "metadata": {
        "id": "p7rgI8-jATBG"
      },
      "outputs": [],
      "source": [
        "def get_candle_type(price):\n",
        "  if price[\"Close\"] > price[\"Open\"] : return \"bullish\"\n",
        "  if price[\"Close\"] < price[\"Open\"] : return \"bearish\"\n",
        "  #if price[\"Close\"] == price[\"Open\"] : return \"undefined\"\n",
        "  return \"undefined\"\n",
        "\n",
        "def set_candle_type(row):\n",
        "  type_ = row[\"Type\"]\n",
        "  if type_ is \"bullish\":\n",
        "    return row[\"Delta\"]\n",
        "  if type_ is \"bearish\":\n",
        "    return -row[\"Delta\"]\n",
        "\n",
        "  return None\n",
        "\n",
        "df_candles = pd.DataFrame()\n",
        "df_candles[\"Delta\"] = df[\"High\"] - df[\"Low\"]\n",
        "df_candles[\"Type\"]  = df.apply(lambda row: get_candle_type(row), axis=1)\n",
        "df_candles[\"Delta\"] = df_candles.apply(lambda row: set_candle_type(row), axis=1)\n",
        "df_candles.dropna(axis=1)\n",
        "df_candles"
      ]
    },
    {
      "cell_type": "code",
      "execution_count": null,
      "metadata": {
        "colab": {
          "base_uri": "https://localhost:8080/",
          "height": 513
        },
        "id": "C_OwFgaaRccV",
        "outputId": "d0e4e1a3-d6d3-4fb4-84fe-d67af93aec45"
      },
      "outputs": [],
      "source": [
        "\n",
        "df_prices = df_tech.loc[df_tech['Date'] > '2000-01-01', ['Date', 'Close']]\n",
        "\n",
        "\n",
        "# Agrupación de los datos por períodos de 3 años\n",
        "df_prices = df_prices.set_index('Date').resample('2Y').last().reset_index()\n",
        "\n",
        "# Gráfico de línea de los precios de cierre de las acciones\n",
        "plt.figure(figsize=(12,8))  # Tamaño de la figura\n",
        "plt.plot(df_prices['Date'], df_prices['Close'])\n",
        "plt.title('Precios de cierre de las acciones de empresas de tecnología de la información (por períodos de 2 años)')\n",
        "plt.xlabel('Fecha')\n",
        "plt.ylabel('Precio de cierre')\n",
        "plt.show()"
      ]
    },
    {
      "cell_type": "code",
      "execution_count": null,
      "metadata": {
        "colab": {
          "base_uri": "https://localhost:8080/",
          "height": 377
        },
        "id": "s75vCG74R5lD",
        "outputId": "3c6b46f9-01cf-4a5b-c318-a4463d5b1624"
      },
      "outputs": [],
      "source": [
        "import seaborn as sns\n",
        "import matplotlib.pyplot as plt\n",
        "\n",
        "# Selección de las empresas de tecnología de la información en el S&P 500\n",
        "df_tech = df.loc[df['GICS Sector'] == 'Information Technology']\n",
        "\n",
        "# Selección de los precios de cierre de las acciones de las empresas de tecnología de la información después del año 2000\n",
        "symbols = ['AAPL', 'MSFT', 'GOOGL', 'AMZN', 'FB']\n",
        "df_prices = df_tech.loc[df_tech['Symbol'].isin(symbols) & (df_tech['Date'] > '2000-01-01'), ['Symbol', 'Date', 'Close']]\n",
        "\n",
        "# Reorganizar los datos para tener los precios de cierre como columnas y las fechas como índices\n",
        "df_prices = df_prices.pivot(index='Date', columns='Symbol', values='Close')\n",
        "# Gráfico de matriz de correlación\n",
        "plt.figure(figsize=(12, 8))\n",
        "g = sns.PairGrid(df_prices, diag_sharey=False)\n",
        "g.map_upper(sns.scatterplot)\n",
        "g.map_lower(sns.kdeplot)\n",
        "g.map_diag(sns.histplot)\n",
        "\n",
        "# Ajustar márgenes\n",
        "plt.subplots_adjust(top=0.9, bottom=0.1, left=0.1, right=0.9, hspace=0.5, wspace=0.5)\n",
        "\n",
        "# Limitar la distribución a dos años\n",
        "g.set(xlim=('2000-01-01', '2002-12-31'), ylim=('2000-01-01', '2002-12-31'))\n",
        "\n",
        "# Limitar la distribución de las diagonales a dos años\n",
        "symbols = df_prices.columns.values\n",
        "for i in range(len(symbols)):\n",
        "    g.axes[i, i].set_xlim(['2000-01-01', '2002-12-31'])\n",
        "\n",
        "# Mostrar gráfico\n",
        "plt.show()\n",
        "\n",
        "\n"
      ]
    },
    {
      "cell_type": "code",
      "execution_count": null,
      "metadata": {
        "id": "vHa-q5-lUTlo"
      },
      "outputs": [],
      "source": [
        "# Selección de las empresas de tecnología de la información en el S&P 500\n",
        "df_tech = df.loc[df['GICS Sector'] == 'Information Technology']\n",
        "# Crear lista con los símbolos de las empresas de tecnología de la información\n",
        "tech_symbols = ['MSFT', 'AMD']\n",
        "\n",
        "# Selección de las empresas de tecnología de la información en el S&P 500\n",
        "df_tech = df.loc[(df['GICS Sector'] == 'Information Technology') & (df['Symbol'].isin(tech_symbols))]\n",
        "\n",
        "# Selección de los precios de cierre de las acciones de las empresas de tecnología de la información después del año 2000\n",
        "df_prices = df_tech.pivot(index='Date', columns='Symbol', values='Close').loc['2000':]\n",
        "\n",
        "# Eliminación de la primera fila que contiene NaN\n",
        "df_returns = df_returns.dropna()\n",
        "\n",
        "\n",
        "\n",
        "# Gráfico de matriz de correlación\n",
        "sns.histplot(data=df_prices, bins=50,kde=True )\n",
        "plt.show()\n",
        "\n",
        "# Gráfico de distribución de la rentabilidad\n",
        "plt.figure(figsize=(12, 8))\n",
        "sns.histplot(data=df_returns, bins=50, kde=True)\n",
        "plt.title('Distribución de la rentabilidad diaria de las acciones de empresas de tecnología de la información (2000-2021)')\n",
        "plt.xlabel('Rentabilidad diaria')\n",
        "plt.ylabel('Frecuencia')\n",
        "plt.xlim(-0.2, 0.2)\n",
        "plt.show()\n",
        "\n"
      ]
    },
    {
      "cell_type": "code",
      "execution_count": null,
      "metadata": {
        "colab": {
          "base_uri": "https://localhost:8080/",
          "height": 285
        },
        "id": "NkA6ti13fYW0",
        "outputId": "54e83512-ed20-4a5d-df55-8471bf19b208"
      },
      "outputs": [],
      "source": [
        "\n",
        "plt.subplots(figsize=(12, 4))\n",
        "sns.lineplot(data=df_tech, x=df_tech['Date'], y='Close')\n",
        "plt.show()"
      ]
    }
  ],
  "metadata": {
    "colab": {
      "provenance": []
    },
    "kernelspec": {
      "display_name": "Python 3",
      "name": "python3"
    },
    "language_info": {
      "codemirror_mode": {
        "name": "ipython",
        "version": 3
      },
      "file_extension": ".py",
      "mimetype": "text/x-python",
      "name": "python",
      "nbconvert_exporter": "python",
      "pygments_lexer": "ipython3",
      "version": "3.12.4"
    }
  },
  "nbformat": 4,
  "nbformat_minor": 0
}
